{
  "nbformat": 4,
  "nbformat_minor": 0,
  "metadata": {
    "colab": {
      "provenance": []
    },
    "kernelspec": {
      "name": "python3",
      "display_name": "Python 3"
    },
    "language_info": {
      "name": "python"
    }
  },
  "cells": [
    {
      "cell_type": "code",
      "source": [
        "import pandas as pd\n",
        "\n",
        "connectivity_file = '/content/School-Age-Digital-Connectivity.xlsx'\n",
        "literacy_file = '/content/Literacy-rate_2021-1.xlsx'\n",
        "\n",
        "connectivity_dfs = pd.read_excel(connectivity_file, sheet_name=None, usecols = \"B:F\", skiprows=[1])\n",
        "literacy_dfs = pd.read_excel(literacy_file, sheet_name=None, usecols = \"B:F\", skiprows=[1])"
      ],
      "metadata": {
        "colab": {
          "base_uri": "https://localhost:8080/"
        },
        "id": "0aQL_bdg6YR3",
        "outputId": "d6a72fc5-b668-490d-8771-bcae9a1cc4e1"
      },
      "execution_count": 184,
      "outputs": [
        {
          "output_type": "stream",
          "name": "stderr",
          "text": [
            "/usr/local/lib/python3.7/dist-packages/pandas/io/excel/_base.py:1292: FutureWarning: Defining usecols with out of bounds indices is deprecated and will raise a ParserError in a future version.\n",
            "  **kwds,\n"
          ]
        }
      ]
    },
    {
      "cell_type": "code",
      "source": [
        "#pick spreadsheet with total school age data\n",
        "total_school_age = connectivity_dfs['Total school age'].sort_values('Total', ascending=False)\n",
        "\n",
        "#pick records from Africa\n",
        "ssa_school_age = total_school_age[total_school_age['Region']=='SSA']"
      ],
      "metadata": {
        "id": "OEZ_ZESwx18r"
      },
      "execution_count": 185,
      "outputs": []
    },
    {
      "cell_type": "code",
      "source": [
        "#pick spreadsheet with youth literacy data\n",
        "youth_literacy = literacy_dfs['Youth literacy rate, aged 15-24']\n",
        "\n",
        "#pick records from Africa\n",
        "ssa_youth_literacy = youth_literacy[youth_literacy['Region']=='SSA'].reset_index(drop=True)\n",
        "ssa_youth_literacy.dropna(inplace=True)\n",
        "\n",
        "#convert percent values to decimal\n",
        "ssa_youth_literacy['Total'] = ssa_youth_literacy['Total']/100"
      ],
      "metadata": {
        "id": "E8eMCLm5KJRz"
      },
      "execution_count": 187,
      "outputs": []
    },
    {
      "cell_type": "code",
      "source": [
        "#merge the two datasets\n",
        "data = ssa_youth_literacy[['Countries and areas','Total']].merge(ssa_school_age[['Countries and areas','Total']], \n",
        "                                                                 on='Countries and areas', suffixes=('_literacy', '_connectivity'))\n",
        "data"
      ],
      "metadata": {
        "colab": {
          "base_uri": "https://localhost:8080/",
          "height": 614
        },
        "id": "oVaW8uqTK6Wk",
        "outputId": "59dab385-5690-4020-96ff-31da60b26822"
      },
      "execution_count": 188,
      "outputs": [
        {
          "output_type": "execute_result",
          "data": {
            "text/plain": [
              "         Countries and areas  Total_literacy  Total_connectivity\n",
              "0                      Benin        0.609481            0.035497\n",
              "1               Burkina Faso        0.582900            0.013710\n",
              "2                   Cameroon        0.850800            0.046586\n",
              "3   Central African Republic        0.382687            0.038162\n",
              "4              Côte d'Ivoire        0.584202            0.027739\n",
              "5                      Ghana        0.924910            0.170109\n",
              "6                      Kenya        0.878300            0.319000\n",
              "7                 Madagascar        0.811984            0.105841\n",
              "8                       Mali        0.501347            0.053766\n",
              "9                    Namibia        0.951649            0.067161\n",
              "10                     Niger        0.434600            0.031238\n",
              "11                   Nigeria        0.750287            0.034441\n",
              "12     Sao Tome and Principe        0.977825            0.444376\n",
              "13              Sierra Leone        0.666486            0.133945\n",
              "14               South Sudan        0.479010            0.003814\n",
              "15                     Sudan        0.730000            0.032592\n",
              "16                    Uganda        0.893963            0.003246\n",
              "17                    Zambia        0.920916            0.058168"
            ],
            "text/html": [
              "\n",
              "  <div id=\"df-633ad230-4407-443d-bcbf-1908c1a1bcd7\">\n",
              "    <div class=\"colab-df-container\">\n",
              "      <div>\n",
              "<style scoped>\n",
              "    .dataframe tbody tr th:only-of-type {\n",
              "        vertical-align: middle;\n",
              "    }\n",
              "\n",
              "    .dataframe tbody tr th {\n",
              "        vertical-align: top;\n",
              "    }\n",
              "\n",
              "    .dataframe thead th {\n",
              "        text-align: right;\n",
              "    }\n",
              "</style>\n",
              "<table border=\"1\" class=\"dataframe\">\n",
              "  <thead>\n",
              "    <tr style=\"text-align: right;\">\n",
              "      <th></th>\n",
              "      <th>Countries and areas</th>\n",
              "      <th>Total_literacy</th>\n",
              "      <th>Total_connectivity</th>\n",
              "    </tr>\n",
              "  </thead>\n",
              "  <tbody>\n",
              "    <tr>\n",
              "      <th>0</th>\n",
              "      <td>Benin</td>\n",
              "      <td>0.609481</td>\n",
              "      <td>0.035497</td>\n",
              "    </tr>\n",
              "    <tr>\n",
              "      <th>1</th>\n",
              "      <td>Burkina Faso</td>\n",
              "      <td>0.582900</td>\n",
              "      <td>0.013710</td>\n",
              "    </tr>\n",
              "    <tr>\n",
              "      <th>2</th>\n",
              "      <td>Cameroon</td>\n",
              "      <td>0.850800</td>\n",
              "      <td>0.046586</td>\n",
              "    </tr>\n",
              "    <tr>\n",
              "      <th>3</th>\n",
              "      <td>Central African Republic</td>\n",
              "      <td>0.382687</td>\n",
              "      <td>0.038162</td>\n",
              "    </tr>\n",
              "    <tr>\n",
              "      <th>4</th>\n",
              "      <td>Côte d'Ivoire</td>\n",
              "      <td>0.584202</td>\n",
              "      <td>0.027739</td>\n",
              "    </tr>\n",
              "    <tr>\n",
              "      <th>5</th>\n",
              "      <td>Ghana</td>\n",
              "      <td>0.924910</td>\n",
              "      <td>0.170109</td>\n",
              "    </tr>\n",
              "    <tr>\n",
              "      <th>6</th>\n",
              "      <td>Kenya</td>\n",
              "      <td>0.878300</td>\n",
              "      <td>0.319000</td>\n",
              "    </tr>\n",
              "    <tr>\n",
              "      <th>7</th>\n",
              "      <td>Madagascar</td>\n",
              "      <td>0.811984</td>\n",
              "      <td>0.105841</td>\n",
              "    </tr>\n",
              "    <tr>\n",
              "      <th>8</th>\n",
              "      <td>Mali</td>\n",
              "      <td>0.501347</td>\n",
              "      <td>0.053766</td>\n",
              "    </tr>\n",
              "    <tr>\n",
              "      <th>9</th>\n",
              "      <td>Namibia</td>\n",
              "      <td>0.951649</td>\n",
              "      <td>0.067161</td>\n",
              "    </tr>\n",
              "    <tr>\n",
              "      <th>10</th>\n",
              "      <td>Niger</td>\n",
              "      <td>0.434600</td>\n",
              "      <td>0.031238</td>\n",
              "    </tr>\n",
              "    <tr>\n",
              "      <th>11</th>\n",
              "      <td>Nigeria</td>\n",
              "      <td>0.750287</td>\n",
              "      <td>0.034441</td>\n",
              "    </tr>\n",
              "    <tr>\n",
              "      <th>12</th>\n",
              "      <td>Sao Tome and Principe</td>\n",
              "      <td>0.977825</td>\n",
              "      <td>0.444376</td>\n",
              "    </tr>\n",
              "    <tr>\n",
              "      <th>13</th>\n",
              "      <td>Sierra Leone</td>\n",
              "      <td>0.666486</td>\n",
              "      <td>0.133945</td>\n",
              "    </tr>\n",
              "    <tr>\n",
              "      <th>14</th>\n",
              "      <td>South Sudan</td>\n",
              "      <td>0.479010</td>\n",
              "      <td>0.003814</td>\n",
              "    </tr>\n",
              "    <tr>\n",
              "      <th>15</th>\n",
              "      <td>Sudan</td>\n",
              "      <td>0.730000</td>\n",
              "      <td>0.032592</td>\n",
              "    </tr>\n",
              "    <tr>\n",
              "      <th>16</th>\n",
              "      <td>Uganda</td>\n",
              "      <td>0.893963</td>\n",
              "      <td>0.003246</td>\n",
              "    </tr>\n",
              "    <tr>\n",
              "      <th>17</th>\n",
              "      <td>Zambia</td>\n",
              "      <td>0.920916</td>\n",
              "      <td>0.058168</td>\n",
              "    </tr>\n",
              "  </tbody>\n",
              "</table>\n",
              "</div>\n",
              "      <button class=\"colab-df-convert\" onclick=\"convertToInteractive('df-633ad230-4407-443d-bcbf-1908c1a1bcd7')\"\n",
              "              title=\"Convert this dataframe to an interactive table.\"\n",
              "              style=\"display:none;\">\n",
              "        \n",
              "  <svg xmlns=\"http://www.w3.org/2000/svg\" height=\"24px\"viewBox=\"0 0 24 24\"\n",
              "       width=\"24px\">\n",
              "    <path d=\"M0 0h24v24H0V0z\" fill=\"none\"/>\n",
              "    <path d=\"M18.56 5.44l.94 2.06.94-2.06 2.06-.94-2.06-.94-.94-2.06-.94 2.06-2.06.94zm-11 1L8.5 8.5l.94-2.06 2.06-.94-2.06-.94L8.5 2.5l-.94 2.06-2.06.94zm10 10l.94 2.06.94-2.06 2.06-.94-2.06-.94-.94-2.06-.94 2.06-2.06.94z\"/><path d=\"M17.41 7.96l-1.37-1.37c-.4-.4-.92-.59-1.43-.59-.52 0-1.04.2-1.43.59L10.3 9.45l-7.72 7.72c-.78.78-.78 2.05 0 2.83L4 21.41c.39.39.9.59 1.41.59.51 0 1.02-.2 1.41-.59l7.78-7.78 2.81-2.81c.8-.78.8-2.07 0-2.86zM5.41 20L4 18.59l7.72-7.72 1.47 1.35L5.41 20z\"/>\n",
              "  </svg>\n",
              "      </button>\n",
              "      \n",
              "  <style>\n",
              "    .colab-df-container {\n",
              "      display:flex;\n",
              "      flex-wrap:wrap;\n",
              "      gap: 12px;\n",
              "    }\n",
              "\n",
              "    .colab-df-convert {\n",
              "      background-color: #E8F0FE;\n",
              "      border: none;\n",
              "      border-radius: 50%;\n",
              "      cursor: pointer;\n",
              "      display: none;\n",
              "      fill: #1967D2;\n",
              "      height: 32px;\n",
              "      padding: 0 0 0 0;\n",
              "      width: 32px;\n",
              "    }\n",
              "\n",
              "    .colab-df-convert:hover {\n",
              "      background-color: #E2EBFA;\n",
              "      box-shadow: 0px 1px 2px rgba(60, 64, 67, 0.3), 0px 1px 3px 1px rgba(60, 64, 67, 0.15);\n",
              "      fill: #174EA6;\n",
              "    }\n",
              "\n",
              "    [theme=dark] .colab-df-convert {\n",
              "      background-color: #3B4455;\n",
              "      fill: #D2E3FC;\n",
              "    }\n",
              "\n",
              "    [theme=dark] .colab-df-convert:hover {\n",
              "      background-color: #434B5C;\n",
              "      box-shadow: 0px 1px 3px 1px rgba(0, 0, 0, 0.15);\n",
              "      filter: drop-shadow(0px 1px 2px rgba(0, 0, 0, 0.3));\n",
              "      fill: #FFFFFF;\n",
              "    }\n",
              "  </style>\n",
              "\n",
              "      <script>\n",
              "        const buttonEl =\n",
              "          document.querySelector('#df-633ad230-4407-443d-bcbf-1908c1a1bcd7 button.colab-df-convert');\n",
              "        buttonEl.style.display =\n",
              "          google.colab.kernel.accessAllowed ? 'block' : 'none';\n",
              "\n",
              "        async function convertToInteractive(key) {\n",
              "          const element = document.querySelector('#df-633ad230-4407-443d-bcbf-1908c1a1bcd7');\n",
              "          const dataTable =\n",
              "            await google.colab.kernel.invokeFunction('convertToInteractive',\n",
              "                                                     [key], {});\n",
              "          if (!dataTable) return;\n",
              "\n",
              "          const docLinkHtml = 'Like what you see? Visit the ' +\n",
              "            '<a target=\"_blank\" href=https://colab.research.google.com/notebooks/data_table.ipynb>data table notebook</a>'\n",
              "            + ' to learn more about interactive tables.';\n",
              "          element.innerHTML = '';\n",
              "          dataTable['output_type'] = 'display_data';\n",
              "          await google.colab.output.renderOutput(dataTable, element);\n",
              "          const docLink = document.createElement('div');\n",
              "          docLink.innerHTML = docLinkHtml;\n",
              "          element.appendChild(docLink);\n",
              "        }\n",
              "      </script>\n",
              "    </div>\n",
              "  </div>\n",
              "  "
            ]
          },
          "metadata": {},
          "execution_count": 188
        }
      ]
    },
    {
      "cell_type": "code",
      "source": [
        "import numpy as np\n",
        "import matplotlib.pyplot as plt\n",
        "\n",
        "# open figure + axis\n",
        "fig, ax = plt.subplots()\n",
        "\n",
        "#set figure size\n",
        "fig.set_size_inches(15,8)\n",
        "\n",
        "#make scatter plot\n",
        "ax.scatter(x=data['Total_connectivity'],y=data['Total_literacy'])\n",
        "\n",
        "#annotate data points\n",
        "for idx, row in data.iterrows():\n",
        "    ax.annotate(row['Countries and areas'], (row['Total_connectivity'], row['Total_literacy']) )\n",
        "\n",
        "#run regression on data and plot regression line\n",
        "coeff, const = np.polyfit(data['Total_connectivity'], data['Total_literacy'], 1)\n",
        "ax.plot(data['Total_connectivity'], coeff*data['Total_connectivity'] + const, color='orange')\n",
        "\n",
        "title = 'Relationship between School Age Digital Connectivity and Youth Literacy in Africa'\n",
        "ax.set_title(title, size=14, fontweight=\"bold\")\n",
        "ax.set_xlabel('Percent of School Age Children(3-17) with Internet Access', size=12)\n",
        "ax.set_ylabel('Percent of Literate Youth(15-24)', size=12)"
      ],
      "metadata": {
        "colab": {
          "base_uri": "https://localhost:8080/",
          "height": 534
        },
        "id": "2kEaFezwd0H7",
        "outputId": "0d2fdc47-0d24-465f-d259-bb98690f4d61"
      },
      "execution_count": 197,
      "outputs": [
        {
          "output_type": "execute_result",
          "data": {
            "text/plain": [
              "Text(0, 0.5, 'Percent of Literate Youth(15-24)')"
            ]
          },
          "metadata": {},
          "execution_count": 197
        },
        {
          "output_type": "display_data",
          "data": {
            "text/plain": [
              "<Figure size 1080x576 with 1 Axes>"
            ],
            "image/png": "[encoded data removed]"
          },
          "metadata": {
            "needs_background": "light"
          }
        }
      ]
    }
  ]
}